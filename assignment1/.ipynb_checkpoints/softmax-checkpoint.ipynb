{
 "cells": [
  {
   "cell_type": "markdown",
   "metadata": {},
   "source": [
    "# Softmax exercise\n",
    "\n",
    "*Complete and hand in this completed worksheet (including its outputs and any supporting code outside of the worksheet) with your assignment submission. For more details see the [assignments page](http://vision.stanford.edu/teaching/cs231n/assignments.html) on the course website.*\n",
    "\n",
    "This exercise is analogous to the SVM exercise. You will:\n",
    "\n",
    "- implement a fully-vectorized **loss function** for the Softmax classifier\n",
    "- implement the fully-vectorized expression for its **analytic gradient**\n",
    "- **check your implementation** with numerical gradient\n",
    "- use a validation set to **tune the learning rate and regularization** strength\n",
    "- **optimize** the loss function with **SGD**\n",
    "- **visualize** the final learned weights\n"
   ]
  },
  {
   "cell_type": "code",
   "execution_count": 1,
   "metadata": {
    "collapsed": false
   },
   "outputs": [],
   "source": [
    "import random\n",
    "import numpy as np\n",
    "from cs231n.data_utils import load_CIFAR10\n",
    "import matplotlib.pyplot as plt\n",
    "%matplotlib inline\n",
    "plt.rcParams['figure.figsize'] = (10.0, 8.0) # set default size of plots\n",
    "plt.rcParams['image.interpolation'] = 'nearest'\n",
    "plt.rcParams['image.cmap'] = 'gray'\n",
    "\n",
    "# for auto-reloading extenrnal modules\n",
    "# see http://stackoverflow.com/questions/1907993/autoreload-of-modules-in-ipython\n",
    "%load_ext autoreload\n",
    "%autoreload 2"
   ]
  },
  {
   "cell_type": "code",
   "execution_count": 2,
   "metadata": {
    "collapsed": false
   },
   "outputs": [
    {
     "name": "stdout",
     "output_type": "stream",
     "text": [
      "Train data shape:  (49000L, 3073L)\n",
      "Train labels shape:  (49000L,)\n",
      "Validation data shape:  (1000L, 3073L)\n",
      "Validation labels shape:  (1000L,)\n",
      "Test data shape:  (1000L, 3073L)\n",
      "Test labels shape:  (1000L,)\n",
      "dev data shape:  (500L, 3073L)\n",
      "dev labels shape:  (500L,)\n"
     ]
    }
   ],
   "source": [
    "def get_CIFAR10_data(num_training=49000, num_validation=1000, num_test=1000, num_dev=500):\n",
    "  \"\"\"\n",
    "  Load the CIFAR-10 dataset from disk and perform preprocessing to prepare\n",
    "  it for the linear classifier. These are the same steps as we used for the\n",
    "  SVM, but condensed to a single function.  \n",
    "  \"\"\"\n",
    "  # Load the raw CIFAR-10 data\n",
    "  cifar10_dir = 'C:\\Users\\CE INFO\\cifar-10-batches-py'\n",
    "  X_train, y_train, X_test, y_test = load_CIFAR10(cifar10_dir)\n",
    "  \n",
    "  # subsample the data\n",
    "  mask = range(num_training, num_training + num_validation)\n",
    "  X_val = X_train[mask]\n",
    "  y_val = y_train[mask]\n",
    "  mask = range(num_training)\n",
    "  X_train = X_train[mask]\n",
    "  y_train = y_train[mask]\n",
    "  mask = range(num_test)\n",
    "  X_test = X_test[mask]\n",
    "  y_test = y_test[mask]\n",
    "  mask = np.random.choice(num_training, num_dev, replace=False)\n",
    "  X_dev = X_train[mask]\n",
    "  y_dev = y_train[mask]\n",
    "  \n",
    "  # Preprocessing: reshape the image data into rows\n",
    "  X_train = np.reshape(X_train, (X_train.shape[0], -1))\n",
    "  X_val = np.reshape(X_val, (X_val.shape[0], -1))\n",
    "  X_test = np.reshape(X_test, (X_test.shape[0], -1))\n",
    "  X_dev = np.reshape(X_dev, (X_dev.shape[0], -1))\n",
    "  \n",
    "  # Normalize the data: subtract the mean image\n",
    "  mean_image = np.mean(X_train, axis = 0)\n",
    "  X_train -= mean_image\n",
    "  X_val -= mean_image\n",
    "  X_test -= mean_image\n",
    "  X_dev -= mean_image\n",
    "  \n",
    "  # add bias dimension and transform into columns\n",
    "  X_train = np.hstack([X_train, np.ones((X_train.shape[0], 1))])\n",
    "  X_val = np.hstack([X_val, np.ones((X_val.shape[0], 1))])\n",
    "  X_test = np.hstack([X_test, np.ones((X_test.shape[0], 1))])\n",
    "  X_dev = np.hstack([X_dev, np.ones((X_dev.shape[0], 1))])\n",
    "  \n",
    "  return X_train, y_train, X_val, y_val, X_test, y_test, X_dev, y_dev\n",
    "\n",
    "\n",
    "# Invoke the above function to get our data.\n",
    "X_train, y_train, X_val, y_val, X_test, y_test, X_dev, y_dev = get_CIFAR10_data()\n",
    "print 'Train data shape: ', X_train.shape\n",
    "print 'Train labels shape: ', y_train.shape\n",
    "print 'Validation data shape: ', X_val.shape\n",
    "print 'Validation labels shape: ', y_val.shape\n",
    "print 'Test data shape: ', X_test.shape\n",
    "print 'Test labels shape: ', y_test.shape\n",
    "print 'dev data shape: ', X_dev.shape\n",
    "print 'dev labels shape: ', y_dev.shape"
   ]
  },
  {
   "cell_type": "code",
   "execution_count": 113,
   "metadata": {
    "collapsed": false
   },
   "outputs": [
    {
     "data": {
      "text/plain": [
       "array([[ -71.64189796,  -73.98173469,  -69.47391837, ...,  -33.86195918,\n",
       "         -42.39957143,    1.        ],\n",
       "       [  23.35810204,   41.01826531,   54.52608163, ...,    7.13804082,\n",
       "          29.60042857,    1.        ],\n",
       "       [ 124.35810204,  119.01826531,  122.52608163, ...,  -39.86195918,\n",
       "         -30.39957143,    1.        ],\n",
       "       ..., \n",
       "       [ -69.64189796,  -62.98173469,  -56.47391837, ...,   34.13804082,\n",
       "           2.60042857,    1.        ],\n",
       "       [-120.64189796, -131.98173469, -118.47391837, ...,   48.13804082,\n",
       "          90.60042857,    1.        ],\n",
       "       [  44.35810204,   57.01826531,   96.52608163, ...,  -47.86195918,\n",
       "         -24.39957143,    1.        ]])"
      ]
     },
     "execution_count": 113,
     "metadata": {},
     "output_type": "execute_result"
    }
   ],
   "source": [
    "X_train"
   ]
  },
  {
   "cell_type": "markdown",
   "metadata": {},
   "source": [
    "## Softmax Classifier\n",
    "\n",
    "Your code for this section will all be written inside **cs231n/classifiers/softmax.py**. \n"
   ]
  },
  {
   "cell_type": "raw",
   "metadata": {},
   "source": [
    "A = np.vstack([X_dev, np.ones(len(X_dev))]).T\n",
    "#numpy.linalg.lstsq\n",
    "m, c, c1 = np.linalg.lstsq(X_dev[:,np.newaxis].T, np.array([366]))[0]\n"
   ]
  },
  {
   "cell_type": "code",
   "execution_count": 2,
   "metadata": {
    "collapsed": false
   },
   "outputs": [
    {
     "ename": "NameError",
     "evalue": "name 'X_dev' is not defined",
     "output_type": "error",
     "traceback": [
      "\u001b[1;31m---------------------------------------------------------------------------\u001b[0m",
      "\u001b[1;31mNameError\u001b[0m                                 Traceback (most recent call last)",
      "\u001b[1;32m<ipython-input-2-d5ec231b7588>\u001b[0m in \u001b[0;36m<module>\u001b[1;34m()\u001b[0m\n\u001b[0;32m      8\u001b[0m \u001b[1;31m# Generate a random softmax weight matrix and use it to compute the loss.\u001b[0m\u001b[1;33m\u001b[0m\u001b[1;33m\u001b[0m\u001b[0m\n\u001b[0;32m      9\u001b[0m \u001b[0mW\u001b[0m \u001b[1;33m=\u001b[0m \u001b[0mnp\u001b[0m\u001b[1;33m.\u001b[0m\u001b[0mrandom\u001b[0m\u001b[1;33m.\u001b[0m\u001b[0mrandn\u001b[0m\u001b[1;33m(\u001b[0m\u001b[1;36m3073\u001b[0m\u001b[1;33m,\u001b[0m \u001b[1;36m10\u001b[0m\u001b[1;33m)\u001b[0m \u001b[1;33m*\u001b[0m \u001b[1;36m0.0001\u001b[0m\u001b[1;33m\u001b[0m\u001b[0m\n\u001b[1;32m---> 10\u001b[1;33m \u001b[0mloss\u001b[0m\u001b[1;33m,\u001b[0m \u001b[0mgrad\u001b[0m \u001b[1;33m=\u001b[0m \u001b[0msoftmax_loss_vectorized\u001b[0m\u001b[1;33m(\u001b[0m\u001b[0mW\u001b[0m\u001b[1;33m,\u001b[0m \u001b[0mX_dev\u001b[0m\u001b[1;33m,\u001b[0m \u001b[0my_dev\u001b[0m\u001b[1;33m,\u001b[0m \u001b[1;36m0.0\u001b[0m\u001b[1;33m)\u001b[0m\u001b[1;33m\u001b[0m\u001b[0m\n\u001b[0m\u001b[0;32m     11\u001b[0m \u001b[1;33m\u001b[0m\u001b[0m\n\u001b[0;32m     12\u001b[0m \u001b[1;31m# As a rough sanity check, our loss should be something close to -log(0.1).\u001b[0m\u001b[1;33m\u001b[0m\u001b[1;33m\u001b[0m\u001b[0m\n",
      "\u001b[1;31mNameError\u001b[0m: name 'X_dev' is not defined"
     ]
    }
   ],
   "source": [
    "# First implement the naive softmax loss function with nested loops.\n",
    "# Open the file cs231n/classifiers/softmax.py and implement the\n",
    "# softmax_loss_naive function.\n",
    "\n",
    "from cs231n.classifiers.softmax import softmax_loss_naive,softmax_loss_vectorized\n",
    "import time\n",
    "\n",
    "# Generate a random softmax weight matrix and use it to compute the loss.\n",
    "W = np.random.randn(3073, 10) * 0.0001\n",
    "loss, grad = softmax_loss_vectorized(W, X_dev, y_dev, 0.0)\n",
    "\n",
    "# As a rough sanity check, our loss should be something close to -log(0.1).\n",
    "print 'loss: %f' % loss\n",
    "print 'sanity check: %f' % (-np.log(0.1))"
   ]
  },
  {
   "cell_type": "code",
   "execution_count": 107,
   "metadata": {
    "collapsed": false
   },
   "outputs": [
    {
     "name": "stdout",
     "output_type": "stream",
     "text": [
      "2.42412273221 2.42412273221\n"
     ]
    }
   ],
   "source": [
    "from cs231n.classifiers.softmax import softmax_loss_naive,softmax_loss_vectorized\n",
    "loss, grad = softmax_loss_naive(W, X_dev, y_dev, 0.0)\n",
    "loss1, grad = softmax_loss_vectorized(W, X_dev, y_dev, 0.0)\n",
    "print loss,loss1"
   ]
  },
  {
   "cell_type": "markdown",
   "metadata": {},
   "source": [
    "## Inline Question 1:\n",
    "Why do we expect our loss to be close to -log(0.1)? Explain briefly.**\n",
    "\n",
    "**Your answer:** *Fill this in*\n"
   ]
  },
  {
   "cell_type": "code",
   "execution_count": 105,
   "metadata": {
    "collapsed": false
   },
   "outputs": [
    {
     "name": "stdout",
     "output_type": "stream",
     "text": [
      "numerical: 1.794737 analytic: 1.794737, relative error: 1.011152e-08\n",
      "numerical: -1.701032 analytic: -1.701032, relative error: 2.850852e-08\n",
      "numerical: -1.400888 analytic: -1.400888, relative error: 3.441323e-08\n",
      "numerical: -0.379157 analytic: -0.379157, relative error: 2.556100e-08\n",
      "numerical: 1.867550 analytic: 1.867550, relative error: 5.718534e-09\n",
      "numerical: -1.041550 analytic: -1.041550, relative error: 2.755339e-08\n",
      "numerical: -2.369552 analytic: -2.369552, relative error: 1.208018e-08\n",
      "numerical: -2.143434 analytic: -2.143434, relative error: 2.258637e-08\n",
      "numerical: -2.758519 analytic: -2.758520, relative error: 1.337190e-08\n",
      "numerical: -0.290685 analytic: -0.290685, relative error: 1.749490e-07\n",
      "numerical: -1.064317 analytic: -1.064317, relative error: 1.716646e-08\n",
      "numerical: 2.416117 analytic: 2.416117, relative error: 4.252300e-08\n",
      "numerical: -0.151428 analytic: -0.151428, relative error: 1.156232e-07\n",
      "numerical: 3.924143 analytic: 3.924142, relative error: 1.830834e-08\n",
      "numerical: -3.306989 analytic: -3.306989, relative error: 1.203494e-08\n",
      "numerical: 3.311473 analytic: 3.311473, relative error: 3.099586e-08\n",
      "numerical: -0.339241 analytic: -0.339241, relative error: 1.563354e-07\n",
      "numerical: -1.553506 analytic: -1.553506, relative error: 5.790089e-09\n",
      "numerical: 1.259966 analytic: 1.259966, relative error: 8.231083e-08\n",
      "numerical: 1.222944 analytic: 1.222944, relative error: 2.441285e-08\n"
     ]
    }
   ],
   "source": [
    "# Complete the implementation of softmax_loss_naive and implement a (naive)\n",
    "# version of the gradient that uses nested loops.\n",
    "loss, grad = softmax_loss_vectorized1(W, X_dev, y_dev, 0.0)\n",
    "\n",
    "# As we did for the SVM, use numeric gradient checking as a debugging tool.\n",
    "# The numeric gradient should be close to the analytic gradient.\n",
    "from cs231n.gradient_check import grad_check_sparse\n",
    "f = lambda w: softmax_loss_vectorized1(w, X_dev, y_dev, 0.0)[0]\n",
    "grad_numerical = grad_check_sparse(f, W, grad, 10)\n",
    "\n",
    "# similar to SVM case, do another gradient check with regularization\n",
    "loss, grad = softmax_loss_vectorized1(W, X_dev, y_dev, 1e2)\n",
    "f = lambda w: softmax_loss_vectorized1(w, X_dev, y_dev, 1e2)[0]\n",
    "grad_numerical = grad_check_sparse(f, W, grad, 10)"
   ]
  },
  {
   "cell_type": "code",
   "execution_count": 109,
   "metadata": {
    "collapsed": false
   },
   "outputs": [
    {
     "name": "stdout",
     "output_type": "stream",
     "text": [
      "naive loss: 2.422325e+00 computed in 0.086000s\n",
      "vectorized loss: 2.422325e+00 computed in 0.004000s\n",
      "Loss difference: 0.000000\n",
      "Gradient difference: 0.000000\n"
     ]
    }
   ],
   "source": [
    "# Now that we have a naive implementation of the softmax loss function and its gradient,\n",
    "# implement a vectorized version in softmax_loss_vectorized.\n",
    "# The two versions should compute the same results, but the vectorized version should be\n",
    "# much faster.\n",
    "tic = time.time()\n",
    "loss_naive, grad_naive = softmax_loss_naive(W, X_dev, y_dev, 0.00001)\n",
    "toc = time.time()\n",
    "print 'naive loss: %e computed in %fs' % (loss_naive, toc - tic)\n",
    "\n",
    "from cs231n.classifiers.softmax import softmax_loss_vectorized\n",
    "tic = time.time()\n",
    "loss_vectorized, grad_vectorized = softmax_loss_vectorized(W, X_dev, y_dev, 0.00001)\n",
    "toc = time.time()\n",
    "print 'vectorized loss: %e computed in %fs' % (loss_vectorized, toc - tic)\n",
    "\n",
    "# As we did for the SVM, we use the Frobenius norm to compare the two versions\n",
    "# of the gradient.\n",
    "grad_difference = np.linalg.norm(grad_naive - grad_vectorized, ord='fro')\n",
    "print 'Loss difference: %f' % np.abs(loss_naive - loss_vectorized)\n",
    "print 'Gradient difference: %f' % grad_difference"
   ]
  },
  {
   "cell_type": "code",
   "execution_count": 110,
   "metadata": {
    "collapsed": false
   },
   "outputs": [
    {
     "name": "stderr",
     "output_type": "stream",
     "text": [
      "cs231n\\classifiers\\softmax.py:95: RuntimeWarning: divide by zero encountered in log\n",
      "  loss = np.mean(-scores_correct + np.log(np.sum(np.exp(scores),axis=1)))\n",
      "cs231n\\classifiers\\softmax.py:96: RuntimeWarning: invalid value encountered in divide\n",
      "  p = np.exp(scores)/(np.sum(np.exp(scores),axis=1)[:,np.newaxis])\n"
     ]
    },
    {
     "name": "stdout",
     "output_type": "stream",
     "text": [
      "lr 1.000000e-07 reg 1.000000e+04 train accuracy: 0.169510 val accuracy: 0.177000\n",
      "lr 1.000000e-07 reg 2.000000e+04 train accuracy: 0.156327 val accuracy: 0.154000\n",
      "lr 1.000000e-07 reg 3.000000e+04 train accuracy: 0.174469 val accuracy: 0.171000\n",
      "lr 1.000000e-07 reg 4.000000e+04 train accuracy: 0.177959 val accuracy: 0.175000\n",
      "lr 1.000000e-07 reg 5.000000e+04 train accuracy: 0.212816 val accuracy: 0.214000\n",
      "lr 1.000000e-07 reg 6.000000e+04 train accuracy: 0.208286 val accuracy: 0.215000\n",
      "lr 1.000000e-07 reg 7.000000e+04 train accuracy: 0.214735 val accuracy: 0.221000\n",
      "lr 1.000000e-07 reg 8.000000e+04 train accuracy: 0.220163 val accuracy: 0.215000\n",
      "lr 1.000000e-07 reg 1.000000e+05 train accuracy: 0.246224 val accuracy: 0.265000\n",
      "lr 2.000000e-07 reg 1.000000e+04 train accuracy: 0.216694 val accuracy: 0.197000\n",
      "lr 2.000000e-07 reg 2.000000e+04 train accuracy: 0.236429 val accuracy: 0.228000\n",
      "lr 2.000000e-07 reg 3.000000e+04 train accuracy: 0.235653 val accuracy: 0.254000\n",
      "lr 2.000000e-07 reg 4.000000e+04 train accuracy: 0.273347 val accuracy: 0.285000\n",
      "lr 2.000000e-07 reg 5.000000e+04 train accuracy: 0.285061 val accuracy: 0.294000\n",
      "lr 2.000000e-07 reg 6.000000e+04 train accuracy: 0.296878 val accuracy: 0.304000\n",
      "lr 2.000000e-07 reg 7.000000e+04 train accuracy: 0.299245 val accuracy: 0.316000\n",
      "lr 2.000000e-07 reg 8.000000e+04 train accuracy: 0.309041 val accuracy: 0.325000\n",
      "lr 2.000000e-07 reg 1.000000e+05 train accuracy: 0.309286 val accuracy: 0.327000\n",
      "lr 3.000000e-07 reg 1.000000e+04 train accuracy: 0.227939 val accuracy: 0.240000\n",
      "lr 3.000000e-07 reg 2.000000e+04 train accuracy: 0.277857 val accuracy: 0.276000\n",
      "lr 3.000000e-07 reg 3.000000e+04 train accuracy: 0.299408 val accuracy: 0.285000\n",
      "lr 3.000000e-07 reg 4.000000e+04 train accuracy: 0.315041 val accuracy: 0.320000\n",
      "lr 3.000000e-07 reg 5.000000e+04 train accuracy: 0.327959 val accuracy: 0.331000\n",
      "lr 3.000000e-07 reg 6.000000e+04 train accuracy: 0.319245 val accuracy: 0.339000\n",
      "lr 3.000000e-07 reg 7.000000e+04 train accuracy: 0.320776 val accuracy: 0.335000\n",
      "lr 3.000000e-07 reg 8.000000e+04 train accuracy: 0.308959 val accuracy: 0.323000\n",
      "lr 3.000000e-07 reg 1.000000e+05 train accuracy: 0.296653 val accuracy: 0.307000\n",
      "lr 8.000000e-07 reg 1.000000e+04 train accuracy: 0.338143 val accuracy: 0.344000\n",
      "lr 8.000000e-07 reg 2.000000e+04 train accuracy: 0.354204 val accuracy: 0.355000\n",
      "lr 8.000000e-07 reg 3.000000e+04 train accuracy: 0.339837 val accuracy: 0.351000\n",
      "lr 8.000000e-07 reg 4.000000e+04 train accuracy: 0.334980 val accuracy: 0.346000\n",
      "lr 8.000000e-07 reg 5.000000e+04 train accuracy: 0.330571 val accuracy: 0.337000\n",
      "lr 8.000000e-07 reg 6.000000e+04 train accuracy: 0.325755 val accuracy: 0.344000\n",
      "lr 8.000000e-07 reg 7.000000e+04 train accuracy: 0.307776 val accuracy: 0.316000\n",
      "lr 8.000000e-07 reg 8.000000e+04 train accuracy: 0.301367 val accuracy: 0.322000\n",
      "lr 8.000000e-07 reg 1.000000e+05 train accuracy: 0.294143 val accuracy: 0.313000\n",
      "lr 5.000000e-05 reg 1.000000e+04 train accuracy: 0.120776 val accuracy: 0.119000\n",
      "lr 5.000000e-05 reg 2.000000e+04 train accuracy: 0.071633 val accuracy: 0.055000\n",
      "lr 5.000000e-05 reg 3.000000e+04 train accuracy: 0.059714 val accuracy: 0.058000\n",
      "lr 5.000000e-05 reg 4.000000e+04 train accuracy: 0.100265 val accuracy: 0.087000\n",
      "lr 5.000000e-05 reg 5.000000e+04 train accuracy: 0.100265 val accuracy: 0.087000\n",
      "lr 5.000000e-05 reg 6.000000e+04 train accuracy: 0.100265 val accuracy: 0.087000\n",
      "lr 5.000000e-05 reg 7.000000e+04 train accuracy: 0.100265 val accuracy: 0.087000\n",
      "lr 5.000000e-05 reg 8.000000e+04 train accuracy: 0.100265 val accuracy: 0.087000\n",
      "lr 5.000000e-05 reg 1.000000e+05 train accuracy: 0.100265 val accuracy: 0.087000\n",
      "best validation accuracy achieved during cross-validation: 0.355000\n"
     ]
    }
   ],
   "source": [
    "# Use the validation set to tune hyperparameters (regularization strength and\n",
    "# learning rate). You should experiment with different ranges for the learning\n",
    "# rates and regularization strengths; if you are careful you should be able to\n",
    "# get a classification accuracy of over 0.35 on the validation set.\n",
    "from cs231n.classifiers import Softmax\n",
    "results = {}\n",
    "best_val = -1\n",
    "best_softmax = None\n",
    "learning_rates = [1e-7, 2e-7, 3e-7, 5e-5, 8e-7]\n",
    "regularization_strengths = [1e4, 2e4, 3e4, 4e4, 5e4, 6e4, 7e4, 8e4, 1e5]\n",
    "\n",
    "################################################################################\n",
    "# TODO:                                                                        #\n",
    "# Use the validation set to set the learning rate and regularization strength. #\n",
    "# This should be identical to the validation that you did for the SVM; save    #\n",
    "# the best trained softmax classifer in best_softmax.                          #\n",
    "################################################################################\n",
    "num_iters=200\n",
    "for lr in learning_rates:\n",
    "    for reg in regularization_strengths:\n",
    "        svm = Softmax()\n",
    "        svm.train(X_train, y_train, learning_rate=lr, reg=reg, num_iters=num_iters)\n",
    "        \n",
    "        y_train_pred = svm.predict(X_train)\n",
    "        acc_train = np.mean(y_train == y_train_pred)\n",
    "        y_val_pred = svm.predict(X_val)\n",
    "        acc_val = np.mean(y_val == y_val_pred)\n",
    "        \n",
    "        results[(lr,reg)] = (acc_train, acc_val)\n",
    "        \n",
    "        if best_val < acc_val:\n",
    "            best_val = acc_val\n",
    "            best_svm = svm\n",
    "################################################################################\n",
    "#                              END OF YOUR CODE                                #\n",
    "################################################################################\n",
    "    \n",
    "# Print out results.\n",
    "for lr, reg in sorted(results):\n",
    "    train_accuracy, val_accuracy = results[(lr, reg)]\n",
    "    print 'lr %e reg %e train accuracy: %f val accuracy: %f' % (\n",
    "                lr, reg, train_accuracy, val_accuracy)\n",
    "    \n",
    "print 'best validation accuracy achieved during cross-validation: %f' % best_val"
   ]
  },
  {
   "cell_type": "code",
   "execution_count": 115,
   "metadata": {
    "collapsed": false
   },
   "outputs": [
    {
     "name": "stdout",
     "output_type": "stream",
     "text": [
      "softmax on raw pixels final test set accuracy: 0.324000\n"
     ]
    }
   ],
   "source": [
    "# evaluate on test set\n",
    "# Evaluate the best softmax on test set\n",
    "y_test_pred = svm.predict(X_test)\n",
    "test_accuracy = np.mean(y_test == y_test_pred)\n",
    "print 'softmax on raw pixels final test set accuracy: %f' % (test_accuracy, )"
   ]
  },
  {
   "cell_type": "code",
   "execution_count": 116,
   "metadata": {
    "collapsed": false
   },
   "outputs": [
    {
     "data": {
      "image/png": "[encoded data removed]",
      "text/plain": [
       "<matplotlib.figure.Figure at 0x7b60e80>"
      ]
     },
     "metadata": {},
     "output_type": "display_data"
    }
   ],
   "source": [
    "# Visualize the learned weights for each class\n",
    "w = svm.W[:-1,:] # strip out the bias\n",
    "w = w.reshape(32, 32, 3, 10)\n",
    "\n",
    "w_min, w_max = np.min(w), np.max(w)\n",
    "\n",
    "classes = ['plane', 'car', 'bird', 'cat', 'deer', 'dog', 'frog', 'horse', 'ship', 'truck']\n",
    "for i in xrange(10):\n",
    "  plt.subplot(2, 5, i + 1)\n",
    "  \n",
    "  # Rescale the weights to be between 0 and 255\n",
    "  wimg = 255.0 * (w[:, :, :, i].squeeze() - w_min) / (w_max - w_min)\n",
    "  plt.imshow(wimg.astype('uint8'))\n",
    "  plt.axis('off')\n",
    "  plt.title(classes[i])"
   ]
  },
  {
   "cell_type": "code",
   "execution_count": null,
   "metadata": {
    "collapsed": true
   },
   "outputs": [],
   "source": []
  }
 ],
 "metadata": {
  "kernelspec": {
   "display_name": "Python [Root]",
   "language": "python",
   "name": "Python [Root]"
  },
  "language_info": {
   "codemirror_mode": {
    "name": "ipython",
    "version": 2
   },
   "file_extension": ".py",
   "mimetype": "text/x-python",
   "name": "python",
   "nbconvert_exporter": "python",
   "pygments_lexer": "ipython2",
   "version": "2.7.12"
  }
 },
 "nbformat": 4,
 "nbformat_minor": 0
}
